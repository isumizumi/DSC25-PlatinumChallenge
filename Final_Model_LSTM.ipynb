{
  "cells": [
    {
      "cell_type": "code",
      "execution_count": 1,
      "metadata": {
        "colab": {
          "base_uri": "https://localhost:8080/"
        },
        "id": "fM94bA6przxE",
        "outputId": "c0c84689-7664-406d-ab52-e0e47517c667"
      },
      "outputs": [
        {
          "output_type": "stream",
          "name": "stdout",
          "text": [
            "Drive already mounted at /content/drive; to attempt to forcibly remount, call drive.mount(\"/content/drive\", force_remount=True).\n"
          ]
        }
      ],
      "source": [
        "from google.colab import drive\n",
        "drive.mount('/content/drive')"
      ]
    },
    {
      "cell_type": "markdown",
      "metadata": {
        "id": "TxeHaYPssAXo"
      },
      "source": [
        "Step 1: Import Dataset, and Text Cleansing"
      ]
    },
    {
      "cell_type": "code",
      "execution_count": 2,
      "metadata": {
        "colab": {
          "base_uri": "https://localhost:8080/",
          "height": 522
        },
        "id": "9TvVXNdasFip",
        "outputId": "1d3788b1-923a-4ce3-b444-d3155b1c1127"
      },
      "outputs": [
        {
          "output_type": "stream",
          "name": "stdout",
          "text": [
            "<class 'pandas.core.frame.DataFrame'>\n",
            "Index: 10928 entries, 0 to 10932\n",
            "Data columns (total 4 columns):\n",
            " #   Column       Non-Null Count  Dtype \n",
            "---  ------       --------------  ----- \n",
            " 0   Unnamed: 0   10928 non-null  int64 \n",
            " 1   Text         10928 non-null  object\n",
            " 2   Text_Bersih  10928 non-null  object\n",
            " 3   Sentiment    10928 non-null  object\n",
            "dtypes: int64(1), object(3)\n",
            "memory usage: 426.9+ KB\n",
            "None\n",
            "0    warung ini dimiliki oleh pengusaha pabrik tahu...\n",
            "1    mohon ulama lurus dan k mmbri hujjah pak ai ap...\n",
            "2    lokasi strategis di jalan sumatra bandung temp...\n",
            "3    betapa bahagia nya diri ini saat unboxing pake...\n",
            "4    aduh jadi mahasiswa jangan sombong dong kasih ...\n",
            "Name: Text_Bersih, dtype: object\n"
          ]
        },
        {
          "output_type": "execute_result",
          "data": {
            "text/plain": [
              "Sentiment\n",
              "positive    6383\n",
              "negative    3407\n",
              "neutral     1138\n",
              "Name: count, dtype: int64"
            ],
            "text/html": [
              "<div>\n",
              "<style scoped>\n",
              "    .dataframe tbody tr th:only-of-type {\n",
              "        vertical-align: middle;\n",
              "    }\n",
              "\n",
              "    .dataframe tbody tr th {\n",
              "        vertical-align: top;\n",
              "    }\n",
              "\n",
              "    .dataframe thead th {\n",
              "        text-align: right;\n",
              "    }\n",
              "</style>\n",
              "<table border=\"1\" class=\"dataframe\">\n",
              "  <thead>\n",
              "    <tr style=\"text-align: right;\">\n",
              "      <th></th>\n",
              "      <th>count</th>\n",
              "    </tr>\n",
              "    <tr>\n",
              "      <th>Sentiment</th>\n",
              "      <th></th>\n",
              "    </tr>\n",
              "  </thead>\n",
              "  <tbody>\n",
              "    <tr>\n",
              "      <th>positive</th>\n",
              "      <td>6383</td>\n",
              "    </tr>\n",
              "    <tr>\n",
              "      <th>negative</th>\n",
              "      <td>3407</td>\n",
              "    </tr>\n",
              "    <tr>\n",
              "      <th>neutral</th>\n",
              "      <td>1138</td>\n",
              "    </tr>\n",
              "  </tbody>\n",
              "</table>\n",
              "</div><br><label><b>dtype:</b> int64</label>"
            ]
          },
          "metadata": {},
          "execution_count": 2
        }
      ],
      "source": [
        "import pandas as pd\n",
        "import re\n",
        "\n",
        "# Load the dataset\n",
        "df = pd.read_csv('/content/drive/MyDrive/DSC25/PlatinumChallenge/clean.csv')\n",
        "\n",
        "# Drop rows with missing values\n",
        "df.dropna(subset=['Text_Bersih', 'Sentiment'], inplace=True)\n",
        "\n",
        "# Define text cleansing function\n",
        "def cleansing_text(text):\n",
        "    text = text.lower()  # Convert to lowercase\n",
        "    text = re.sub(r'\\d+', '', text)  # Remove numbers\n",
        "    text = re.sub(r'[^a-z\\s!?]', '', text)  # Remove special characters except '!?'\n",
        "    text = re.sub(r'\\s+', ' ', text).strip()  # Remove extra spaces\n",
        "    text = re.sub(r'http\\S+|www\\S+|https\\S+', '', text)  # Remove URLs\n",
        "    return text\n",
        "\n",
        "# Apply cleansing function\n",
        "df['Text_Bersih'] = df['Text_Bersih'].apply(cleansing_text)\n",
        "\n",
        "# Display dataset info\n",
        "print(df.info())\n",
        "print(df['Text_Bersih'].head())\n",
        "\n",
        "# Memeriksa ukuran (dimensi) dari DataFrame (jumlah baris dan kolom)\n",
        "df.shape\n",
        "\n",
        "# Menghitung jumlah kemunculan setiap nilai unik dalam kolom Sentiment dari DataFrame\n",
        "df['Sentiment'].value_counts()"
      ]
    },
    {
      "cell_type": "markdown",
      "metadata": {
        "id": "wGLiktegsNoC"
      },
      "source": [
        "Step 2: Normalize Slang Using new_kamusalay.csv"
      ]
    },
    {
      "cell_type": "code",
      "execution_count": 3,
      "metadata": {
        "colab": {
          "base_uri": "https://localhost:8080/"
        },
        "id": "mI6ZlRsAsPtX",
        "outputId": "f8fded8c-fd97-47c2-a04b-20f5fa505cef"
      },
      "outputs": [
        {
          "output_type": "stream",
          "name": "stdout",
          "text": [
            "0    warung ini dimiliki oleh pengusaha pabrik tahu...\n",
            "1    mohon ulama lurus dan k mmbri hujjah pak ai ap...\n",
            "2    lokasi strategis di jalan sumatra bandung temp...\n",
            "3    betapa bahagia nya diri ini saat unboxing pake...\n",
            "4    aduh jadi mahasiswa jangan sombong dong kasih ...\n",
            "Name: Text_Bersih, dtype: object\n"
          ]
        }
      ],
      "source": [
        "# Load slang dictionary\n",
        "kamus_alay = pd.read_csv('/content/drive/MyDrive/DSC25/PlatinumChallenge/new_kamusalay.csv', header=None, index_col=0, encoding='latin-1').squeeze(axis=1).to_dict()\n",
        "\n",
        "# Define function to normalize slang\n",
        "def normalize_slang(text):\n",
        "    words = text.split()\n",
        "    normalized_words = [kamus_alay.get(word, word) for word in words]\n",
        "    return ' '.join(normalized_words)\n",
        "\n",
        "# Define function to normalize slang if needed\n",
        "def normalize_slang_if_needed(text):\n",
        "    if isinstance(text, str) and any(word in kamus_alay for word in text.split()):\n",
        "        return normalize_slang(text)\n",
        "    return text\n",
        "\n",
        "# Apply normalization\n",
        "df['Text_Bersih'] = df['Text_Bersih'].apply(normalize_slang_if_needed)\n",
        "\n",
        "# Display results\n",
        "print(df['Text_Bersih'].head())\n"
      ]
    },
    {
      "cell_type": "markdown",
      "metadata": {
        "id": "nu2tNjpOsTGD"
      },
      "source": [
        "Step 3: Handle Abusive Words Using abusive.csv"
      ]
    },
    {
      "cell_type": "code",
      "execution_count": 4,
      "metadata": {
        "colab": {
          "base_uri": "https://localhost:8080/"
        },
        "id": "oqUw4Bt7sUsO",
        "outputId": "57b5c2fc-0fd0-424d-b9d4-33ddaf3056b1"
      },
      "outputs": [
        {
          "output_type": "stream",
          "name": "stdout",
          "text": [
            "0    warung ini dimiliki oleh pengusaha pabrik tahu...\n",
            "1    mohon ulama lurus dan k mmbri hujjah pak ai ap...\n",
            "2    lokasi strategis di jalan sumatra bandung temp...\n",
            "3    betapa bahagia nya diri ini saat unboxing pake...\n",
            "4    aduh jadi mahasiswa jangan sombong dong kasih ...\n",
            "Name: Text_Bersih, dtype: object\n"
          ]
        }
      ],
      "source": [
        "# Load abusive words\n",
        "abusive_words = set(pd.read_csv('/content/drive/MyDrive/DSC25/PlatinumChallenge/abusive.csv', header=None)[0].tolist())\n",
        "\n",
        "# Define function to handle abusive words\n",
        "def handle_abusive_words(text, replacement=''):\n",
        "    words = text.split()\n",
        "    handled_words = [replacement if word in abusive_words else word for word in words]\n",
        "    return ' '.join(handled_words)\n",
        "\n",
        "# Define function to handle abusive words\n",
        "def handle_abusive_words_if_needed(text, replacement=''):\n",
        "    if isinstance(text, str) and any(word in abusive_words for word in text.split()):\n",
        "        return handle_abusive_words(text, replacement)\n",
        "    return text\n",
        "\n",
        "# Apply abusive word handling\n",
        "df['Text_Bersih'] = df['Text_Bersih'].apply(lambda x: handle_abusive_words_if_needed(x, replacement=''))\n",
        "\n",
        "# Display results\n",
        "print(df['Text_Bersih'].head())"
      ]
    },
    {
      "cell_type": "markdown",
      "metadata": {
        "id": "D25ZjdtesWNO"
      },
      "source": [
        "Step 4: Remove Stopwords and Synonym Replacement for Augmentation"
      ]
    },
    {
      "cell_type": "code",
      "execution_count": 5,
      "metadata": {
        "colab": {
          "base_uri": "https://localhost:8080/"
        },
        "id": "OBGNJgfMsZ22",
        "outputId": "7efebfd4-c048-42c9-fd43-621ed00543e5"
      },
      "outputs": [
        {
          "output_type": "stream",
          "name": "stderr",
          "text": [
            "[nltk_data] Downloading package stopwords to /root/nltk_data...\n",
            "[nltk_data]   Unzipping corpora/stopwords.zip.\n",
            "[nltk_data] Downloading package punkt to /root/nltk_data...\n",
            "[nltk_data]   Unzipping tokenizers/punkt.zip.\n",
            "[nltk_data] Downloading package punkt_tab to /root/nltk_data...\n",
            "[nltk_data]   Unzipping tokenizers/punkt_tab.zip.\n",
            "[nltk_data] Downloading package wordnet to /root/nltk_data...\n"
          ]
        }
      ],
      "source": [
        "import nltk\n",
        "from nltk.corpus import stopwords, wordnet\n",
        "from nltk.tokenize import word_tokenize\n",
        "import random\n",
        "\n",
        "nltk.download('stopwords')\n",
        "nltk.download('punkt')\n",
        "nltk.download('punkt_tab')\n",
        "nltk.download('wordnet')\n",
        "\n",
        "# Define stopwords\n",
        "stop_words = set(stopwords.words('indonesian'))\n",
        "\n",
        "# Define function to remove stopwords\n",
        "def remove_stopwords(text):\n",
        "    words = word_tokenize(text)\n",
        "    filtered_words = [word for word in words if word not in stop_words]\n",
        "    return ' '.join(filtered_words)\n",
        "\n",
        "# Apply stopword removal\n",
        "df['Text_Bersih'] = df['Text_Bersih'].apply(remove_stopwords)\n",
        "\n",
        "# Define synonym replacement function for augmentation\n",
        "def get_synonyms(word):\n",
        "    synonyms = set()\n",
        "    for syn in wordnet.synsets(word):\n",
        "        for lemma in syn.lemmas():\n",
        "            synonyms.add(lemma.name())\n",
        "    return list(synonyms)\n",
        "\n",
        "def synonym_replacement(sentence, n=1):\n",
        "    words = sentence.split()\n",
        "    random_words = list(set(words))\n",
        "    random.shuffle(random_words)\n",
        "    num_replaced = 0\n",
        "    for random_word in random_words:\n",
        "        synonyms = get_synonyms(random_word)\n",
        "        if synonyms:\n",
        "            synonym = random.choice(synonyms)\n",
        "            words = [synonym if word == random_word else word for word in words]\n",
        "            num_replaced += 1\n",
        "        if num_replaced >= n:\n",
        "            break\n",
        "    return ' '.join(words)\n",
        "\n",
        "# Apply augmentation\n",
        "augmented_texts = []\n",
        "augmented_labels = []\n",
        "\n",
        "for text, label in zip(df['Text_Bersih'], df['Sentiment']):\n",
        "    augmented_texts.append(text)\n",
        "    augmented_labels.append(label)\n",
        "    augmented_text = synonym_replacement(text, n=1)\n",
        "    if augmented_text != text:\n",
        "        augmented_texts.append(augmented_text)\n",
        "        augmented_labels.append(label)\n",
        "\n",
        "# Create new DataFrame for augmented data\n",
        "augmented_df = pd.DataFrame({\n",
        "    'Text_Bersih': augmented_texts,\n",
        "    'Sentiment': augmented_labels\n",
        "})\n"
      ]
    },
    {
      "cell_type": "markdown",
      "metadata": {
        "id": "IA0j2PXpsdoP"
      },
      "source": [
        "Step 5: Encode Labels"
      ]
    },
    {
      "cell_type": "code",
      "execution_count": 6,
      "metadata": {
        "colab": {
          "base_uri": "https://localhost:8080/"
        },
        "id": "e0xZdyvxsf4P",
        "outputId": "f32226b9-c4e2-46e2-8718-fe0fc3363ea6"
      },
      "outputs": [
        {
          "output_type": "stream",
          "name": "stdout",
          "text": [
            "                                         Text_Bersih Sentiment  \\\n",
            "0  warung dimiliki pengusaha pabrik puluhan terke...  positive   \n",
            "1  warung dimiliki pengusaha pabrik puluhan terke...  positive   \n",
            "2  mohon ulama lurus k mmbri hujjah ai diwlh suar...   neutral   \n",
            "3  mohon ulama lurus atomic_number_19 mmbri hujja...   neutral   \n",
            "4  lokasi strategis jalan sumatra bandung nya nya...  positive   \n",
            "\n",
            "   Encoded_Sentiment  \n",
            "0                  2  \n",
            "1                  2  \n",
            "2                  1  \n",
            "3                  1  \n",
            "4                  2  \n"
          ]
        }
      ],
      "source": [
        "import numpy as np\n",
        "from sklearn.preprocessing import LabelEncoder\n",
        "\n",
        "# Encode labels\n",
        "label_encoder = LabelEncoder()\n",
        "augmented_df['Encoded_Sentiment'] = label_encoder.fit_transform(augmented_df['Sentiment'])\n",
        "\n",
        "# Simpan hasil encoding ke file .npy\n",
        "np.save('/content/drive/MyDrive/DSC25/PlatinumChallenge/classes.npy', label_encoder.classes_)\n",
        "\n",
        "# Display results\n",
        "print(augmented_df.head())\n"
      ]
    },
    {
      "cell_type": "markdown",
      "metadata": {
        "id": "-Z5hZAvcshEi"
      },
      "source": [
        "Step 6: Analisis Frekuensi Kata untuk Menentukan num_words"
      ]
    },
    {
      "cell_type": "code",
      "execution_count": 7,
      "metadata": {
        "colab": {
          "base_uri": "https://localhost:8080/"
        },
        "id": "7OGM2-1MsnjX",
        "outputId": "d7d957a5-af08-4271-e4c8-f2098d70ab72"
      },
      "outputs": [
        {
          "output_type": "stream",
          "name": "stdout",
          "text": [
            "Jumlah kata yang mencakup 95% dari total frekuensi: 7156\n"
          ]
        }
      ],
      "source": [
        "from collections import Counter\n",
        "\n",
        "# Gabungkan semua teks menjadi satu string besar\n",
        "all_text = ' '.join(df['Text_Bersih'].astype(str).tolist())\n",
        "\n",
        "# Pisahkan string menjadi daftar kata\n",
        "all_words = all_text.split()\n",
        "\n",
        "# Hitung frekuensi setiap kata\n",
        "word_freq = Counter(all_words)\n",
        "\n",
        "# Urutkan kata berdasarkan frekuensi kemunculan\n",
        "most_common_words = word_freq.most_common()\n",
        "\n",
        "# Hitung total kata\n",
        "total_words = sum(word_freq.values())\n",
        "\n",
        "# Tentukan jumlah kata yang mencakup 95% dari total frekuensi\n",
        "cumulative_freq = 0\n",
        "num_words = 0\n",
        "for word, freq in most_common_words:\n",
        "    cumulative_freq += freq\n",
        "    num_words += 1\n",
        "    if cumulative_freq / total_words >= 0.95:\n",
        "        break\n",
        "\n",
        "print(f\"Jumlah kata yang mencakup 95% dari total frekuensi: {num_words}\")"
      ]
    },
    {
      "cell_type": "markdown",
      "metadata": {
        "id": "-OnQlOwpsp4V"
      },
      "source": [
        "Step 7: Analisis Panjang Kalimat untuk Menentukan max_sequence_length"
      ]
    },
    {
      "cell_type": "code",
      "execution_count": 8,
      "metadata": {
        "colab": {
          "base_uri": "https://localhost:8080/",
          "height": 581
        },
        "id": "MLtPEpHDst9j",
        "outputId": "f04d27c1-48f2-40c6-b3c8-d1a8a953ee1f"
      },
      "outputs": [
        {
          "output_type": "display_data",
          "data": {
            "text/plain": [
              "<Figure size 1000x600 with 1 Axes>"
            ],
            "image/png": "[encoded data removed]"
          },
          "metadata": {}
        },
        {
          "output_type": "stream",
          "name": "stdout",
          "text": [
            "Panjang maksimum urutan yang mencakup 95% dari kalimat: 36\n"
          ]
        }
      ],
      "source": [
        "import matplotlib.pyplot as plt\n",
        "import numpy as np\n",
        "\n",
        "# Hitung panjang setiap kalimat dalam jumlah kata\n",
        "sentence_lengths = [len(sentence.split()) for sentence in df['Text_Bersih'].astype(str).tolist()]\n",
        "\n",
        "# Plot distribusi panjang kalimat\n",
        "plt.figure(figsize=(10, 6))\n",
        "plt.hist(sentence_lengths, bins=50, color='blue', alpha=0.7)\n",
        "plt.title('Distribusi Panjang Kalimat')\n",
        "plt.xlabel('Jumlah Kata per Kalimat')\n",
        "plt.ylabel('Frekuensi')\n",
        "plt.show()\n",
        "\n",
        "# Tentukan panjang maksimum yang mencakup 95% dari kalimat\n",
        "max_sequence_length = int(np.percentile(sentence_lengths, 95))\n",
        "print(f\"Panjang maksimum urutan yang mencakup 95% dari kalimat: {max_sequence_length}\")"
      ]
    },
    {
      "cell_type": "markdown",
      "metadata": {
        "id": "ydoH7vZkswqe"
      },
      "source": [
        "Step 8: Tokenize and Pad Sequences"
      ]
    },
    {
      "cell_type": "code",
      "execution_count": 9,
      "metadata": {
        "colab": {
          "base_uri": "https://localhost:8080/"
        },
        "id": "NKCLVa89s0Gg",
        "outputId": "58c4eacf-8b1e-4a69-f3ba-d4c22dcbe37a"
      },
      "outputs": [
        {
          "output_type": "stream",
          "name": "stdout",
          "text": [
            "[[ 133 2128 3327 3108 1008  129  382    7  606 1565 5566 1255 1565    1\n",
            "   133  180    8  230 1954  140    8   13   23   17  211   24    6   66\n",
            "   644    1    2  318  281    1    0    0]\n",
            " [ 133 2128 3327 3108 1008  129  382    7  606 1565 5566 1255 1565    1\n",
            "   133  180    8  230 1954  140    8   13   23   17  211   24    6   66\n",
            "   644    1    2  318  281    1    0    0]\n",
            " [ 701  887 2903  635    1    1  216    1  326  117    1    0    0    0\n",
            "     0    0    0    0    0    0    0    0    0    0    0    0    0    0\n",
            "     0    0    0    0    0    0    0    0]\n",
            " [ 701  887 2903  558  529    1    1    1  216    1  326  117    1    0\n",
            "     0    0    0    0    0    0    0    0    0    0    0    0    0    0\n",
            "     0    0    0    0    0    0    0    0]\n",
            " [  34  144   15 1026    7    2   14 1101  155    1    2    4   37  455\n",
            "   139  761  124 6970    2  292    0    0    0    0    0    0    0    0\n",
            "     0    0    0    0    0    0    0    0]]\n"
          ]
        }
      ],
      "source": [
        "from tensorflow.keras.preprocessing.text import Tokenizer\n",
        "from tensorflow.keras.preprocessing.sequence import pad_sequences\n",
        "\n",
        "# Initialize tokenizer\n",
        "tokenizer = Tokenizer(num_words=num_words, oov_token='<OOV>')\n",
        "\n",
        "# Fit tokenizer on text\n",
        "tokenizer.fit_on_texts(augmented_df['Text_Bersih'])\n",
        "\n",
        "# Convert texts to sequences and pad them\n",
        "sequences = tokenizer.texts_to_sequences(augmented_df['Text_Bersih'])\n",
        "padded_sequences = pad_sequences(sequences, maxlen=max_sequence_length, padding='post')\n",
        "\n",
        "# Display results\n",
        "print(padded_sequences[:5])"
      ]
    },
    {
      "cell_type": "markdown",
      "metadata": {
        "id": "d_jIPhr_s1qx"
      },
      "source": [
        "Step 9: Train-Test Split"
      ]
    },
    {
      "cell_type": "code",
      "execution_count": 10,
      "metadata": {
        "id": "0SY_NXoxs5KM"
      },
      "outputs": [],
      "source": [
        "from sklearn.model_selection import train_test_split\n",
        "\n",
        "# Split data into training and testing\n",
        "X_train, X_test, y_train, y_test = train_test_split(\n",
        "    padded_sequences,\n",
        "    augmented_df['Encoded_Sentiment'],\n",
        "    test_size=0.2,\n",
        "    random_state=42\n",
        ")"
      ]
    },
    {
      "cell_type": "markdown",
      "metadata": {
        "id": "S7HRAStLs53y"
      },
      "source": [
        "Step 10: Build and Train LSTM Model"
      ]
    },
    {
      "cell_type": "code",
      "execution_count": 29,
      "metadata": {
        "colab": {
          "base_uri": "https://localhost:8080/"
        },
        "id": "7Kg1beGTs_4Z",
        "outputId": "27d2b037-247d-4e4f-d076-67519659b9e9"
      },
      "outputs": [
        {
          "output_type": "stream",
          "name": "stdout",
          "text": [
            "Epoch 1/20\n",
            "\u001b[1m178/178\u001b[0m \u001b[32m━━━━━━━━━━━━━━━━━━━━\u001b[0m\u001b[37m\u001b[0m \u001b[1m74s\u001b[0m 362ms/step - accuracy: 0.6167 - loss: 0.9891 - val_accuracy: 0.7380 - val_loss: 0.6109 - learning_rate: 1.0000e-04\n",
            "Epoch 2/20\n",
            "\u001b[1m178/178\u001b[0m \u001b[32m━━━━━━━━━━━━━━━━━━━━\u001b[0m\u001b[37m\u001b[0m \u001b[1m82s\u001b[0m 360ms/step - accuracy: 0.7393 - loss: 0.6536 - val_accuracy: 0.7904 - val_loss: 0.5286 - learning_rate: 1.0000e-04\n",
            "Epoch 3/20\n",
            "\u001b[1m178/178\u001b[0m \u001b[32m━━━━━━━━━━━━━━━━━━━━\u001b[0m\u001b[37m\u001b[0m \u001b[1m82s\u001b[0m 358ms/step - accuracy: 0.7896 - loss: 0.5447 - val_accuracy: 0.7961 - val_loss: 0.5296 - learning_rate: 1.0000e-04\n",
            "Epoch 4/20\n",
            "\u001b[1m178/178\u001b[0m \u001b[32m━━━━━━━━━━━━━━━━━━━━\u001b[0m\u001b[37m\u001b[0m \u001b[1m82s\u001b[0m 359ms/step - accuracy: 0.8136 - loss: 0.5028 - val_accuracy: 0.8249 - val_loss: 0.4775 - learning_rate: 1.0000e-04\n",
            "Epoch 5/20\n",
            "\u001b[1m178/178\u001b[0m \u001b[32m━━━━━━━━━━━━━━━━━━━━\u001b[0m\u001b[37m\u001b[0m \u001b[1m83s\u001b[0m 364ms/step - accuracy: 0.8325 - loss: 0.4518 - val_accuracy: 0.8129 - val_loss: 0.5066 - learning_rate: 1.0000e-04\n",
            "Epoch 6/20\n",
            "\u001b[1m178/178\u001b[0m \u001b[32m━━━━━━━━━━━━━━━━━━━━\u001b[0m\u001b[37m\u001b[0m \u001b[1m84s\u001b[0m 366ms/step - accuracy: 0.8403 - loss: 0.4236 - val_accuracy: 0.8288 - val_loss: 0.4720 - learning_rate: 1.0000e-04\n",
            "Epoch 7/20\n",
            "\u001b[1m178/178\u001b[0m \u001b[32m━━━━━━━━━━━━━━━━━━━━\u001b[0m\u001b[37m\u001b[0m \u001b[1m81s\u001b[0m 374ms/step - accuracy: 0.8485 - loss: 0.4250 - val_accuracy: 0.8179 - val_loss: 0.4673 - learning_rate: 1.0000e-04\n",
            "Epoch 8/20\n",
            "\u001b[1m178/178\u001b[0m \u001b[32m━━━━━━━━━━━━━━━━━━━━\u001b[0m\u001b[37m\u001b[0m \u001b[1m63s\u001b[0m 356ms/step - accuracy: 0.8506 - loss: 0.4068 - val_accuracy: 0.8485 - val_loss: 0.4002 - learning_rate: 1.0000e-04\n",
            "Epoch 9/20\n",
            "\u001b[1m178/178\u001b[0m \u001b[32m━━━━━━━━━━━━━━━━━━━━\u001b[0m\u001b[37m\u001b[0m \u001b[1m63s\u001b[0m 355ms/step - accuracy: 0.8586 - loss: 0.3884 - val_accuracy: 0.8425 - val_loss: 0.4322 - learning_rate: 1.0000e-04\n",
            "Epoch 10/20\n",
            "\u001b[1m178/178\u001b[0m \u001b[32m━━━━━━━━━━━━━━━━━━━━\u001b[0m\u001b[37m\u001b[0m \u001b[1m83s\u001b[0m 363ms/step - accuracy: 0.8655 - loss: 0.3737 - val_accuracy: 0.8492 - val_loss: 0.4181 - learning_rate: 1.0000e-04\n"
          ]
        }
      ],
      "source": [
        "from sklearn.utils.class_weight import compute_class_weight\n",
        "import numpy as np\n",
        "import tensorflow as tf\n",
        "from tensorflow.keras.models import Sequential\n",
        "from tensorflow.keras.layers import Embedding, LSTM, Dense, Dropout, Bidirectional\n",
        "from tensorflow.keras.callbacks import EarlyStopping, ReduceLROnPlateau\n",
        "from tensorflow.keras.optimizers import Adam\n",
        "\n",
        "#Compute Class Weights\n",
        "y_train_np = y_train.to_numpy().astype(int)\n",
        "\n",
        "# Calculate class weights using compute_class_weight\n",
        "class_weights = compute_class_weight(class_weight='balanced',\n",
        "                                        classes=np.unique(y_train_np),\n",
        "                                        y=y_train_np)\n",
        "\n",
        "class_weights_dict = dict(enumerate(class_weights))\n",
        "\n",
        "# Gunakan embedding FastText\n",
        "embedding_index = {}\n",
        "with open('/content/drive/MyDrive/DSC25/PlatinumChallenge/cc.id.300.vec', 'r', encoding='utf-8') as f:\n",
        "    for line in f:\n",
        "        values = line.split()\n",
        "        word = values[0]\n",
        "        vector = np.asarray(values[1:], dtype='float32')\n",
        "        embedding_index[word] = vector\n",
        "\n",
        "# Create embedding matrix\n",
        "embedding_dim = 300  # Sesuai dengan dimensi FastText yang digunakan\n",
        "word_index = tokenizer.word_index\n",
        "num_words = len(word_index) + 1\n",
        "embedding_matrix = np.zeros((num_words, embedding_dim))\n",
        "for word, i in word_index.items():\n",
        "    embedding_vector = embedding_index.get(word)\n",
        "    if embedding_vector is not None:\n",
        "        embedding_matrix[i] = embedding_vector\n",
        "\n",
        "model = Sequential()\n",
        "model.add(Embedding(input_dim=num_words,\n",
        "                    output_dim=embedding_dim,\n",
        "                    weights=[embedding_matrix],\n",
        "                    trainable=False))\n",
        "model.add(Bidirectional(LSTM(128, return_sequences=True)))\n",
        "model.add(Dropout(0.5)) # Meningkatkan Dropout untuk regularisasi\n",
        "model.add(Bidirectional(LSTM(64)))\n",
        "model.add(Dropout(0.5)) # Tambahkan Dropout setelah layer kedua\n",
        "model.add(Dense(3, activation='softmax'))\n",
        "\n",
        "# Mengompilasi model\n",
        "optimizer = Adam(learning_rate=0.0001)\n",
        "model.compile(optimizer=optimizer,\n",
        "              loss='sparse_categorical_crossentropy',\n",
        "              metrics=['accuracy'])\n",
        "\n",
        "# Callbacks\n",
        "early_stopping = EarlyStopping(monitor='val_loss', patience=2, restore_best_weights=True)\n",
        "reduce_lr = ReduceLROnPlateau(monitor='val_loss', factor=0.2, patience=2, min_lr=1e-7)\n",
        "\n",
        "y_train = y_train.reset_index(drop=True)\n",
        "\n",
        "# Melatih model\n",
        "history = model.fit(X_train, y_train,\n",
        "                    validation_split=0.2,\n",
        "                    epochs=20,  # Tetap gunakan jumlah epoch besar, EarlyStopping akan menghentikan lebih awal\n",
        "                    batch_size=64,  # Kurangi batch size tidak apa-apa\n",
        "                    class_weight=class_weights_dict,\n",
        "                    callbacks=[early_stopping, reduce_lr],\n",
        "                    verbose=1)"
      ]
    },
    {
      "cell_type": "markdown",
      "metadata": {
        "id": "QbB5RbE7tApX"
      },
      "source": [
        "Step 11: Evaluate Model"
      ]
    },
    {
      "cell_type": "code",
      "execution_count": 30,
      "metadata": {
        "colab": {
          "base_uri": "https://localhost:8080/",
          "height": 692
        },
        "id": "u_lchE-MtD_r",
        "outputId": "2e7a520b-adb8-46da-fc67-4fb9983e5d5f"
      },
      "outputs": [
        {
          "output_type": "stream",
          "name": "stdout",
          "text": [
            "\u001b[1m112/112\u001b[0m \u001b[32m━━━━━━━━━━━━━━━━━━━━\u001b[0m\u001b[37m\u001b[0m \u001b[1m9s\u001b[0m 73ms/step - accuracy: 0.8405 - loss: 0.3977\n",
            "Test Loss: 0.3994444012641907\n",
            "Test Accuracy: 0.8480585217475891\n",
            "\u001b[1m112/112\u001b[0m \u001b[32m━━━━━━━━━━━━━━━━━━━━\u001b[0m\u001b[37m\u001b[0m \u001b[1m12s\u001b[0m 100ms/step\n"
          ]
        },
        {
          "output_type": "display_data",
          "data": {
            "text/plain": [
              "<Figure size 640x480 with 2 Axes>"
            ],
            "image/png": "[encoded data removed]"
          },
          "metadata": {}
        },
        {
          "output_type": "stream",
          "name": "stdout",
          "text": [
            "              precision    recall  f1-score   support\n",
            "\n",
            "    negative       0.78      0.75      0.76      1055\n",
            "     neutral       0.65      0.79      0.71       328\n",
            "    positive       0.92      0.91      0.91      2171\n",
            "\n",
            "    accuracy                           0.85      3554\n",
            "   macro avg       0.78      0.81      0.80      3554\n",
            "weighted avg       0.85      0.85      0.85      3554\n",
            "\n"
          ]
        }
      ],
      "source": [
        "from sklearn.metrics import classification_report, confusion_matrix\n",
        "import seaborn as sns\n",
        "import matplotlib.pyplot as plt\n",
        "import numpy as np\n",
        "\n",
        "# Convert X_test to a NumPy array with a defined shape\n",
        "X_test = X_test.astype(np.int64)\n",
        "\n",
        "loss, accuracy = model.evaluate(X_test, y_test)\n",
        "print(f\"Test Loss: {loss}\")\n",
        "print(f\"Test Accuracy: {accuracy}\")\n",
        "\n",
        "# Predict on test data\n",
        "y_pred = np.argmax(model.predict(X_test), axis=1)\n",
        "\n",
        "# Confusion matrix\n",
        "conf_matrix = confusion_matrix(y_test, y_pred)\n",
        "sns.heatmap(conf_matrix, annot=True, fmt='d', cmap='Blues')\n",
        "plt.xlabel('Predicted')\n",
        "plt.ylabel('Actual')\n",
        "plt.show()\n",
        "\n",
        "# Classification report\n",
        "print(classification_report(y_test, y_pred, target_names=label_encoder.classes_))"
      ]
    },
    {
      "cell_type": "markdown",
      "metadata": {
        "id": "Srm6LZg2tNhS"
      },
      "source": [
        "Step 12: Model Visualization"
      ]
    },
    {
      "cell_type": "code",
      "execution_count": 31,
      "metadata": {
        "colab": {
          "base_uri": "https://localhost:8080/",
          "height": 507
        },
        "id": "_WAA4zuWtNpn",
        "outputId": "5e40002b-0bd0-40de-a7e9-975866b8ad72"
      },
      "outputs": [
        {
          "output_type": "display_data",
          "data": {
            "text/plain": [
              "<Figure size 1200x500 with 2 Axes>"
            ],
            "image/png": "[encoded data removed]"
          },
          "metadata": {}
        }
      ],
      "source": [
        "import matplotlib.pyplot as plt\n",
        "\n",
        "plt.figure(figsize=(12, 5))\n",
        "\n",
        "# Plot Loss\n",
        "plt.subplot(1, 2, 1)\n",
        "plt.plot(history.history['loss'], label='Training Loss')\n",
        "plt.plot(history.history['val_loss'], label='Validation Loss')\n",
        "plt.title('Loss per Epoch')\n",
        "plt.xlabel('Epochs')\n",
        "plt.ylabel('Loss')\n",
        "plt.legend()\n",
        "\n",
        "# Plot Accuracy\n",
        "plt.subplot(1, 2, 2)\n",
        "plt.plot(history.history['accuracy'], label='Training Accuracy')\n",
        "plt.plot(history.history['val_accuracy'], label='Validation Accuracy')\n",
        "plt.title('Accuracy per Epoch')\n",
        "plt.xlabel('Epochs')\n",
        "plt.ylabel('Accuracy')\n",
        "plt.legend()\n",
        "\n",
        "plt.tight_layout()\n",
        "plt.show()"
      ]
    },
    {
      "cell_type": "markdown",
      "metadata": {
        "id": "nYMbNcOOtcgY"
      },
      "source": [
        "Step 13: Test Prediction"
      ]
    },
    {
      "cell_type": "code",
      "execution_count": 32,
      "metadata": {
        "colab": {
          "base_uri": "https://localhost:8080/"
        },
        "id": "2K49NxFBtjIM",
        "outputId": "a847788b-553c-44d2-b0f5-ca9b72a6da41"
      },
      "outputs": [
        {
          "output_type": "stream",
          "name": "stdout",
          "text": [
            "\u001b[1m1/1\u001b[0m \u001b[32m━━━━━━━━━━━━━━━━━━━━\u001b[0m\u001b[37m\u001b[0m \u001b[1m1s\u001b[0m 712ms/step\n",
            "Teks: Kata hati saya: Semoga dapat jodoh yg sabar, setia, rendah hati, sehat lahir dan batin, Prediksi Sentimen: positive\n"
          ]
        }
      ],
      "source": [
        "def custom_sentiment_prediction(text):\n",
        "    # Cleansing text\n",
        "    text = cleansing_text(text)\n",
        "\n",
        "    # Tokenize and pad text\n",
        "    sequence = tokenizer.texts_to_sequences([text])\n",
        "    padded = pad_sequences(sequence, maxlen=100, padding='post')\n",
        "\n",
        "    # Predict sentiment\n",
        "    prediction = model.predict(padded)\n",
        "    predicted_label = label_encoder.inverse_transform([np.argmax(prediction)])\n",
        "\n",
        "    return predicted_label[0]\n",
        "\n",
        "# Test examples\n",
        "#texts = [\"Rasa syukur, cukup\", \"JAHAT!!!\", \"Saya suka banget nasi goreng\"]\n",
        "#texts = [\"Ya udah.. dijual lah, goblok!!!\", \"Yang kamu lakuin ke aku itu, JAHAT!!!\", \"Baiklah kalau begitu\"]\n",
        "texts = [\"Kata hati saya: Semoga dapat jodoh yg sabar, setia, rendah hati, sehat lahir dan batin\"]\n",
        "#texts = [\"Sayangi dirimu\", \"Pak ustadz nanya dong gimana klo kecanduan rokok, judi, narkoba, pinjol, mabuk, mabuk agama\"]\n",
        "\n",
        "# Display predictions\n",
        "for text in texts:\n",
        "    pred = custom_sentiment_prediction(text)\n",
        "    print(f\"Teks: {text}, Prediksi Sentimen: {pred}\")\n"
      ]
    },
    {
      "cell_type": "markdown",
      "metadata": {
        "id": "dKaOQPxMyV7l"
      },
      "source": [
        "Step 14: Save (Model dan Objek x_pad_sequences)"
      ]
    },
    {
      "cell_type": "code",
      "execution_count": 33,
      "metadata": {
        "colab": {
          "base_uri": "https://localhost:8080/"
        },
        "id": "67Fi7nIqyX8e",
        "outputId": "cd98497b-3a1a-4f56-9db8-78ae1de2dd68"
      },
      "outputs": [
        {
          "output_type": "stream",
          "name": "stdout",
          "text": [
            "Model saved successfully\n",
            "Tokenizer saved successfully\n"
          ]
        }
      ],
      "source": [
        "# Save Model\n",
        "model.save('/content/drive/MyDrive/DSC25/PlatinumChallenge/model-lstm.keras')\n",
        "print(\"Model saved successfully\")\n",
        "\n",
        "# Simpan objek ke berkas\n",
        "with open('/content/drive/MyDrive/DSC25/PlatinumChallenge/tokenizer-lstm.json', 'w') as f:\n",
        "    f.write(tokenizer.to_json())\n",
        "    print(\"Tokenizer saved successfully\")"
      ]
    }
  ],
  "metadata": {
    "colab": {
      "provenance": []
    },
    "kernelspec": {
      "display_name": "Python 3",
      "name": "python3"
    },
    "language_info": {
      "name": "python"
    }
  },
  "nbformat": 4,
  "nbformat_minor": 0
}