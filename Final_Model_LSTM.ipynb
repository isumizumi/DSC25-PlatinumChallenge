{
  "cells": [
    {
      "cell_type": "code",
      "execution_count": 1,
      "metadata": {
        "colab": {
          "base_uri": "https://localhost:8080/"
        },
        "id": "fM94bA6przxE",
        "outputId": "4e35a40a-58ad-4256-ac1e-3603dcf759ed"
      },
      "outputs": [
        {
          "output_type": "stream",
          "name": "stdout",
          "text": [
            "Drive already mounted at /content/drive; to attempt to forcibly remount, call drive.mount(\"/content/drive\", force_remount=True).\n"
          ]
        }
      ],
      "source": [
        "from google.colab import drive\n",
        "drive.mount('/content/drive')"
      ]
    },
    {
      "cell_type": "markdown",
      "metadata": {
        "id": "TxeHaYPssAXo"
      },
      "source": [
        "Step 1: Import Dataset, and Text Cleansing"
      ]
    },
    {
      "cell_type": "code",
      "execution_count": 48,
      "metadata": {
        "colab": {
          "base_uri": "https://localhost:8080/"
        },
        "id": "9TvVXNdasFip",
        "outputId": "26376dc2-25b8-4ac3-9025-b2fa5f28caec"
      },
      "outputs": [
        {
          "output_type": "stream",
          "name": "stdout",
          "text": [
            "<class 'pandas.core.frame.DataFrame'>\n",
            "Index: 10928 entries, 0 to 10932\n",
            "Data columns (total 4 columns):\n",
            " #   Column       Non-Null Count  Dtype \n",
            "---  ------       --------------  ----- \n",
            " 0   Unnamed: 0   10928 non-null  int64 \n",
            " 1   Text         10928 non-null  object\n",
            " 2   Text_Bersih  10928 non-null  object\n",
            " 3   Sentiment    10928 non-null  object\n",
            "dtypes: int64(1), object(3)\n",
            "memory usage: 426.9+ KB\n",
            "None\n",
            "0    warung ini dimiliki oleh pengusaha pabrik tahu...\n",
            "1    mohon ulama lurus dan k mmbri hujjah pak ai ap...\n",
            "2    lokasi strategis di jalan sumatra bandung temp...\n",
            "3    betapa bahagia nya diri ini saat unboxing pake...\n",
            "4    aduh jadi mahasiswa jangan sombong dong kasih ...\n",
            "Name: Text_Bersih, dtype: object\n"
          ]
        }
      ],
      "source": [
        "import pandas as pd\n",
        "import re\n",
        "\n",
        "# Load the dataset\n",
        "df = pd.read_csv('/content/drive/MyDrive/DSC25/PlatinumChallenge/clean.csv')\n",
        "\n",
        "# Drop rows with missing values\n",
        "df.dropna(subset=['Text_Bersih', 'Sentiment'], inplace=True)\n",
        "\n",
        "# Define text cleansing function\n",
        "def cleansing_text(text):\n",
        "    text = text.lower()  # Convert to lowercase\n",
        "    text = re.sub(r'\\d+', '', text)  # Remove numbers\n",
        "    text = re.sub(r'[^a-z\\s!?]', '', text)  # Remove special characters except '!?'\n",
        "    text = re.sub(r'\\s+', ' ', text).strip()  # Remove extra spaces\n",
        "    text = re.sub(r'http\\S+|www\\S+|https\\S+', '', text)  # Remove URLs\n",
        "    return text\n",
        "\n",
        "# Apply cleansing function\n",
        "df['Text_Bersih'] = df['Text_Bersih'].apply(cleansing_text)\n",
        "\n",
        "# Display dataset info\n",
        "print(df.info())\n",
        "print(df['Text_Bersih'].head())"
      ]
    },
    {
      "cell_type": "markdown",
      "metadata": {
        "id": "wGLiktegsNoC"
      },
      "source": [
        "Step 2: Normalize Slang Using new_kamusalay.csv"
      ]
    },
    {
      "cell_type": "code",
      "execution_count": 49,
      "metadata": {
        "colab": {
          "base_uri": "https://localhost:8080/"
        },
        "id": "mI6ZlRsAsPtX",
        "outputId": "ed6a3cbb-4bef-4c0b-e51a-70594b6f6b7c"
      },
      "outputs": [
        {
          "output_type": "stream",
          "name": "stdout",
          "text": [
            "0    warung ini dimiliki oleh pengusaha pabrik tahu...\n",
            "1    mohon ulama lurus dan k mmbri hujjah pak ai ap...\n",
            "2    lokasi strategis di jalan sumatra bandung temp...\n",
            "3    betapa bahagia nya diri ini saat unboxing pake...\n",
            "4    aduh jadi mahasiswa jangan sombong dong kasih ...\n",
            "Name: Text_Bersih, dtype: object\n"
          ]
        }
      ],
      "source": [
        "# Load slang dictionary\n",
        "kamus_alay = pd.read_csv('/content/drive/MyDrive/DSC25/PlatinumChallenge/new_kamusalay.csv', header=None, index_col=0, encoding='latin-1').squeeze(axis=1).to_dict()\n",
        "\n",
        "# Define function to normalize slang\n",
        "def normalize_slang(text):\n",
        "    words = text.split()\n",
        "    normalized_words = [kamus_alay.get(word, word) for word in words]\n",
        "    return ' '.join(normalized_words)\n",
        "\n",
        "# Define function to normalize slang if needed\n",
        "def normalize_slang_if_needed(text):\n",
        "    if isinstance(text, str) and any(word in kamus_alay for word in text.split()):\n",
        "        return normalize_slang(text)\n",
        "    return text\n",
        "\n",
        "# Apply normalization\n",
        "df['Text_Bersih'] = df['Text_Bersih'].apply(normalize_slang_if_needed)\n",
        "\n",
        "# Display results\n",
        "print(df['Text_Bersih'].head())\n"
      ]
    },
    {
      "cell_type": "markdown",
      "metadata": {
        "id": "nu2tNjpOsTGD"
      },
      "source": [
        "Step 3: Handle Abusive Words Using abusive.csv"
      ]
    },
    {
      "cell_type": "code",
      "execution_count": 50,
      "metadata": {
        "colab": {
          "base_uri": "https://localhost:8080/"
        },
        "id": "oqUw4Bt7sUsO",
        "outputId": "6d8caf5e-5296-4e75-8547-2cfa3f22f03f"
      },
      "outputs": [
        {
          "output_type": "stream",
          "name": "stdout",
          "text": [
            "0    warung ini dimiliki oleh pengusaha pabrik tahu...\n",
            "1    mohon ulama lurus dan k mmbri hujjah pak ai ap...\n",
            "2    lokasi strategis di jalan sumatra bandung temp...\n",
            "3    betapa bahagia nya diri ini saat unboxing pake...\n",
            "4    aduh jadi mahasiswa jangan sombong dong kasih ...\n",
            "Name: Text_Bersih, dtype: object\n"
          ]
        }
      ],
      "source": [
        "# Load abusive words\n",
        "abusive_words = set(pd.read_csv('/content/drive/MyDrive/DSC25/PlatinumChallenge/abusive.csv', header=None)[0].tolist())\n",
        "\n",
        "# Define function to handle abusive words\n",
        "def handle_abusive_words(text, replacement=''):\n",
        "    words = text.split()\n",
        "    handled_words = [replacement if word in abusive_words else word for word in words]\n",
        "    return ' '.join(handled_words)\n",
        "\n",
        "# Define function to handle abusive words\n",
        "def handle_abusive_words_if_needed(text, replacement=''):\n",
        "    if isinstance(text, str) and any(word in abusive_words for word in text.split()):\n",
        "        return handle_abusive_words(text, replacement)\n",
        "    return text\n",
        "\n",
        "# Apply abusive word handling\n",
        "df['Text_Bersih'] = df['Text_Bersih'].apply(lambda x: handle_abusive_words_if_needed(x, replacement=''))\n",
        "\n",
        "# Display results\n",
        "print(df['Text_Bersih'].head())"
      ]
    },
    {
      "cell_type": "markdown",
      "metadata": {
        "id": "D25ZjdtesWNO"
      },
      "source": [
        "Step 4: Remove Stopwords and Synonym Replacement for Augmentation"
      ]
    },
    {
      "cell_type": "code",
      "execution_count": 51,
      "metadata": {
        "colab": {
          "base_uri": "https://localhost:8080/"
        },
        "id": "OBGNJgfMsZ22",
        "outputId": "4329e788-5fce-472a-c7f5-40fe2002a069"
      },
      "outputs": [
        {
          "output_type": "stream",
          "name": "stderr",
          "text": [
            "[nltk_data] Downloading package stopwords to /root/nltk_data...\n",
            "[nltk_data]   Package stopwords is already up-to-date!\n",
            "[nltk_data] Downloading package punkt to /root/nltk_data...\n",
            "[nltk_data]   Package punkt is already up-to-date!\n",
            "[nltk_data] Downloading package punkt_tab to /root/nltk_data...\n",
            "[nltk_data]   Package punkt_tab is already up-to-date!\n",
            "[nltk_data] Downloading package wordnet to /root/nltk_data...\n",
            "[nltk_data]   Package wordnet is already up-to-date!\n"
          ]
        }
      ],
      "source": [
        "import nltk\n",
        "from nltk.corpus import stopwords, wordnet\n",
        "from nltk.tokenize import word_tokenize\n",
        "import random\n",
        "\n",
        "nltk.download('stopwords')\n",
        "nltk.download('punkt')\n",
        "nltk.download('punkt_tab')\n",
        "nltk.download('wordnet')\n",
        "\n",
        "# Define stopwords\n",
        "stop_words = set(stopwords.words('indonesian'))\n",
        "\n",
        "# Define function to remove stopwords\n",
        "def remove_stopwords(text):\n",
        "    words = word_tokenize(text)\n",
        "    filtered_words = [word for word in words if word not in stop_words]\n",
        "    return ' '.join(filtered_words)\n",
        "\n",
        "# Apply stopword removal\n",
        "df['Text_Bersih'] = df['Text_Bersih'].apply(remove_stopwords)\n",
        "\n",
        "# Define synonym replacement function for augmentation\n",
        "def get_synonyms(word):\n",
        "    synonyms = set()\n",
        "    for syn in wordnet.synsets(word):\n",
        "        for lemma in syn.lemmas():\n",
        "            synonyms.add(lemma.name())\n",
        "    return list(synonyms)\n",
        "\n",
        "def synonym_replacement(sentence, n=1):\n",
        "    words = sentence.split()\n",
        "    random_words = list(set(words))\n",
        "    random.shuffle(random_words)\n",
        "    num_replaced = 0\n",
        "    for random_word in random_words:\n",
        "        synonyms = get_synonyms(random_word)\n",
        "        if synonyms:\n",
        "            synonym = random.choice(synonyms)\n",
        "            words = [synonym if word == random_word else word for word in words]\n",
        "            num_replaced += 1\n",
        "        if num_replaced >= n:\n",
        "            break\n",
        "    return ' '.join(words)\n",
        "\n",
        "# Apply augmentation\n",
        "augmented_texts = []\n",
        "augmented_labels = []\n",
        "\n",
        "for text, label in zip(df['Text_Bersih'], df['Sentiment']):\n",
        "    augmented_texts.append(text)\n",
        "    augmented_labels.append(label)\n",
        "    augmented_text = synonym_replacement(text, n=1)\n",
        "    if augmented_text != text:\n",
        "        augmented_texts.append(augmented_text)\n",
        "        augmented_labels.append(label)\n",
        "\n",
        "# Create new DataFrame for augmented data\n",
        "augmented_df = pd.DataFrame({\n",
        "    'Text_Bersih': augmented_texts,\n",
        "    'Sentiment': augmented_labels\n",
        "})\n"
      ]
    },
    {
      "cell_type": "markdown",
      "metadata": {
        "id": "IA0j2PXpsdoP"
      },
      "source": [
        "Step 5: Encode Labels"
      ]
    },
    {
      "cell_type": "code",
      "execution_count": 52,
      "metadata": {
        "colab": {
          "base_uri": "https://localhost:8080/"
        },
        "id": "e0xZdyvxsf4P",
        "outputId": "b609e5ae-22d4-445b-d043-fa5c7ee8af32"
      },
      "outputs": [
        {
          "output_type": "stream",
          "name": "stdout",
          "text": [
            "                                         Text_Bersih Sentiment  \\\n",
            "0  warung dimiliki pengusaha pabrik puluhan terke...  positive   \n",
            "1  warung dimiliki pengusaha pabrik puluhan terke...  positive   \n",
            "2  mohon ulama lurus k mmbri hujjah ai diwlh suar...   neutral   \n",
            "3  lokasi strategis jalan sumatra bandung nya nya...  positive   \n",
            "4  lokasi strategis jalan sumatra bandung nya nya...  positive   \n",
            "\n",
            "   Encoded_Sentiment  \n",
            "0                  2  \n",
            "1                  2  \n",
            "2                  1  \n",
            "3                  2  \n",
            "4                  2  \n"
          ]
        }
      ],
      "source": [
        "from sklearn.preprocessing import LabelEncoder\n",
        "\n",
        "# Encode labels\n",
        "label_encoder = LabelEncoder()\n",
        "augmented_df['Encoded_Sentiment'] = label_encoder.fit_transform(augmented_df['Sentiment'])\n",
        "\n",
        "# Display results\n",
        "print(augmented_df.head())\n"
      ]
    },
    {
      "cell_type": "markdown",
      "metadata": {
        "id": "-Z5hZAvcshEi"
      },
      "source": [
        "Step 6: Analisis Frekuensi Kata untuk Menentukan num_words"
      ]
    },
    {
      "cell_type": "code",
      "execution_count": 53,
      "metadata": {
        "colab": {
          "base_uri": "https://localhost:8080/"
        },
        "id": "7OGM2-1MsnjX",
        "outputId": "625b5438-481c-41f0-fa5a-e24630bc6688"
      },
      "outputs": [
        {
          "output_type": "stream",
          "name": "stdout",
          "text": [
            "Jumlah kata yang mencakup 95% dari total frekuensi: 7156\n"
          ]
        }
      ],
      "source": [
        "from collections import Counter\n",
        "\n",
        "# Gabungkan semua teks menjadi satu string besar\n",
        "all_text = ' '.join(df['Text_Bersih'].astype(str).tolist())\n",
        "\n",
        "# Pisahkan string menjadi daftar kata\n",
        "all_words = all_text.split()\n",
        "\n",
        "# Hitung frekuensi setiap kata\n",
        "word_freq = Counter(all_words)\n",
        "\n",
        "# Urutkan kata berdasarkan frekuensi kemunculan\n",
        "most_common_words = word_freq.most_common()\n",
        "\n",
        "# Hitung total kata\n",
        "total_words = sum(word_freq.values())\n",
        "\n",
        "# Tentukan jumlah kata yang mencakup 95% dari total frekuensi\n",
        "cumulative_freq = 0\n",
        "num_words = 0\n",
        "for word, freq in most_common_words:\n",
        "    cumulative_freq += freq\n",
        "    num_words += 1\n",
        "    if cumulative_freq / total_words >= 0.95:\n",
        "        break\n",
        "\n",
        "print(f\"Jumlah kata yang mencakup 95% dari total frekuensi: {num_words}\")"
      ]
    },
    {
      "cell_type": "markdown",
      "metadata": {
        "id": "-OnQlOwpsp4V"
      },
      "source": [
        "Step 7: Analisis Panjang Kalimat untuk Menentukan max_sequence_length"
      ]
    },
    {
      "cell_type": "code",
      "execution_count": 54,
      "metadata": {
        "colab": {
          "base_uri": "https://localhost:8080/",
          "height": 581
        },
        "id": "MLtPEpHDst9j",
        "outputId": "3013d236-f35d-4adc-cceb-dfecf4fd7751"
      },
      "outputs": [
        {
          "output_type": "display_data",
          "data": {
            "text/plain": [
              "<Figure size 1000x600 with 1 Axes>"
            ],
            "image/png": "[encoded data removed]"
          },
          "metadata": {}
        },
        {
          "output_type": "stream",
          "name": "stdout",
          "text": [
            "Panjang maksimum urutan yang mencakup 95% dari kalimat: 36\n"
          ]
        }
      ],
      "source": [
        "import matplotlib.pyplot as plt\n",
        "import numpy as np\n",
        "\n",
        "# Hitung panjang setiap kalimat dalam jumlah kata\n",
        "sentence_lengths = [len(sentence.split()) for sentence in df['Text_Bersih'].astype(str).tolist()]\n",
        "\n",
        "# Plot distribusi panjang kalimat\n",
        "plt.figure(figsize=(10, 6))\n",
        "plt.hist(sentence_lengths, bins=50, color='blue', alpha=0.7)\n",
        "plt.title('Distribusi Panjang Kalimat')\n",
        "plt.xlabel('Jumlah Kata per Kalimat')\n",
        "plt.ylabel('Frekuensi')\n",
        "plt.show()\n",
        "\n",
        "# Tentukan panjang maksimum yang mencakup 95% dari kalimat\n",
        "max_sequence_length = int(np.percentile(sentence_lengths, 95))\n",
        "print(f\"Panjang maksimum urutan yang mencakup 95% dari kalimat: {max_sequence_length}\")"
      ]
    },
    {
      "cell_type": "markdown",
      "metadata": {
        "id": "ydoH7vZkswqe"
      },
      "source": [
        "Step 8: Tokenize and Pad Sequences"
      ]
    },
    {
      "cell_type": "code",
      "execution_count": 55,
      "metadata": {
        "colab": {
          "base_uri": "https://localhost:8080/"
        },
        "id": "NKCLVa89s0Gg",
        "outputId": "baeaf987-7ee2-4438-cc5d-11be7e9f065a"
      },
      "outputs": [
        {
          "output_type": "stream",
          "name": "stdout",
          "text": [
            "[[ 129 2121 3335 2704 1053  127  374    7  615 1525 5565 1247 1525    1\n",
            "   129  181    8  230 1954  140    8   14   24   16  211   23    6   66\n",
            "   683    1    2  321  275    1    0    0]\n",
            " [ 129 2121 3335 2704 1053  127  374    7  615 1525 5565 1247 1525    1\n",
            "   129  181    8  230 1954  140    8   14   24   16  211   23    6   66\n",
            "   683    1    2  321  275    1    0    0]\n",
            " [ 752  983 3336  656    1    1  196    1  323  119    1    0    0    0\n",
            "     0    0    0    0    0    0    0    0    0    0    0    0    0    0\n",
            "     0    0    0    0    0    0    0    0]\n",
            " [  33  141   15  996    7    2   13 1017  153 6992    2    4   37  455\n",
            "   139  788  124 5566    2  287    0    0    0    0    0    0    0    0\n",
            "     0    0    0    0    0    0    0    0]\n",
            " [  33  141   15  996    7    2   13 6993  153 6992    2    4   37  455\n",
            "   139  788  124 5566    2  287    0    0    0    0    0    0    0    0\n",
            "     0    0    0    0    0    0    0    0]]\n"
          ]
        }
      ],
      "source": [
        "from tensorflow.keras.preprocessing.text import Tokenizer\n",
        "from tensorflow.keras.preprocessing.sequence import pad_sequences\n",
        "\n",
        "# Initialize tokenizer\n",
        "tokenizer = Tokenizer(num_words=num_words, oov_token='<OOV>')\n",
        "\n",
        "# Fit tokenizer on text\n",
        "tokenizer.fit_on_texts(augmented_df['Text_Bersih'])\n",
        "\n",
        "# Convert texts to sequences and pad them\n",
        "sequences = tokenizer.texts_to_sequences(augmented_df['Text_Bersih'])\n",
        "padded_sequences = pad_sequences(sequences, maxlen=max_sequence_length, padding='post')\n",
        "\n",
        "# Display results\n",
        "print(padded_sequences[:5])"
      ]
    },
    {
      "cell_type": "markdown",
      "metadata": {
        "id": "d_jIPhr_s1qx"
      },
      "source": [
        "Step 9: Train-Test Split"
      ]
    },
    {
      "cell_type": "code",
      "execution_count": 56,
      "metadata": {
        "id": "0SY_NXoxs5KM"
      },
      "outputs": [],
      "source": [
        "from sklearn.model_selection import train_test_split\n",
        "\n",
        "# Split data into training and testing\n",
        "X_train, X_test, y_train, y_test = train_test_split(\n",
        "    padded_sequences,\n",
        "    augmented_df['Encoded_Sentiment'],\n",
        "    test_size=0.2,\n",
        "    random_state=42\n",
        ")"
      ]
    },
    {
      "cell_type": "markdown",
      "metadata": {
        "id": "S7HRAStLs53y"
      },
      "source": [
        "Step 10: Build and Train LSTM Model"
      ]
    },
    {
      "cell_type": "code",
      "execution_count": 86,
      "metadata": {
        "colab": {
          "base_uri": "https://localhost:8080/"
        },
        "id": "7Kg1beGTs_4Z",
        "outputId": "73889cff-fd54-4bb9-f096-5ad7d90ed060"
      },
      "outputs": [
        {
          "output_type": "stream",
          "name": "stdout",
          "text": [
            "Epoch 1/50\n",
            "\u001b[1m178/178\u001b[0m \u001b[32m━━━━━━━━━━━━━━━━━━━━\u001b[0m\u001b[37m\u001b[0m \u001b[1m223s\u001b[0m 1s/step - accuracy: 0.6320 - loss: 0.9174 - val_accuracy: 0.7791 - val_loss: 0.5561 - learning_rate: 1.0000e-04\n",
            "Epoch 2/50\n",
            "\u001b[1m178/178\u001b[0m \u001b[32m━━━━━━━━━━━━━━━━━━━━\u001b[0m\u001b[37m\u001b[0m \u001b[1m266s\u001b[0m 1s/step - accuracy: 0.7948 - loss: 0.5502 - val_accuracy: 0.8263 - val_loss: 0.4732 - learning_rate: 1.0000e-04\n",
            "Epoch 3/50\n",
            "\u001b[1m178/178\u001b[0m \u001b[32m━━━━━━━━━━━━━━━━━━━━\u001b[0m\u001b[37m\u001b[0m \u001b[1m254s\u001b[0m 1s/step - accuracy: 0.8274 - loss: 0.4826 - val_accuracy: 0.8211 - val_loss: 0.4772 - learning_rate: 1.0000e-04\n",
            "Epoch 4/50\n",
            "\u001b[1m178/178\u001b[0m \u001b[32m━━━━━━━━━━━━━━━━━━━━\u001b[0m\u001b[37m\u001b[0m \u001b[1m261s\u001b[0m 1s/step - accuracy: 0.8356 - loss: 0.4417 - val_accuracy: 0.8457 - val_loss: 0.4274 - learning_rate: 1.0000e-04\n",
            "Epoch 5/50\n",
            "\u001b[1m178/178\u001b[0m \u001b[32m━━━━━━━━━━━━━━━━━━━━\u001b[0m\u001b[37m\u001b[0m \u001b[1m218s\u001b[0m 1s/step - accuracy: 0.8460 - loss: 0.4174 - val_accuracy: 0.8253 - val_loss: 0.4664 - learning_rate: 1.0000e-04\n",
            "Epoch 6/50\n",
            "\u001b[1m178/178\u001b[0m \u001b[32m━━━━━━━━━━━━━━━━━━━━\u001b[0m\u001b[37m\u001b[0m \u001b[1m257s\u001b[0m 1s/step - accuracy: 0.8562 - loss: 0.3910 - val_accuracy: 0.8440 - val_loss: 0.4230 - learning_rate: 1.0000e-04\n",
            "Epoch 7/50\n",
            "\u001b[1m178/178\u001b[0m \u001b[32m━━━━━━━━━━━━━━━━━━━━\u001b[0m\u001b[37m\u001b[0m \u001b[1m260s\u001b[0m 1s/step - accuracy: 0.8645 - loss: 0.3835 - val_accuracy: 0.8535 - val_loss: 0.4027 - learning_rate: 1.0000e-04\n",
            "Epoch 8/50\n",
            "\u001b[1m178/178\u001b[0m \u001b[32m━━━━━━━━━━━━━━━━━━━━\u001b[0m\u001b[37m\u001b[0m \u001b[1m211s\u001b[0m 1s/step - accuracy: 0.8582 - loss: 0.3844 - val_accuracy: 0.8337 - val_loss: 0.4669 - learning_rate: 1.0000e-04\n",
            "Epoch 9/50\n",
            "\u001b[1m178/178\u001b[0m \u001b[32m━━━━━━━━━━━━━━━━━━━━\u001b[0m\u001b[37m\u001b[0m \u001b[1m271s\u001b[0m 1s/step - accuracy: 0.8645 - loss: 0.3611 - val_accuracy: 0.8418 - val_loss: 0.4340 - learning_rate: 1.0000e-04\n",
            "Epoch 10/50\n",
            "\u001b[1m178/178\u001b[0m \u001b[32m━━━━━━━━━━━━━━━━━━━━\u001b[0m\u001b[37m\u001b[0m \u001b[1m254s\u001b[0m 1s/step - accuracy: 0.8744 - loss: 0.3332 - val_accuracy: 0.8433 - val_loss: 0.4462 - learning_rate: 1.0000e-04\n"
          ]
        }
      ],
      "source": [
        "from sklearn.utils.class_weight import compute_class_weight\n",
        "import numpy as np\n",
        "import tensorflow as tf\n",
        "from tensorflow.keras.models import Sequential\n",
        "from tensorflow.keras.layers import Embedding, LSTM, Dense, Dropout, Bidirectional\n",
        "from tensorflow.keras.callbacks import EarlyStopping, ReduceLROnPlateau\n",
        "from tensorflow.keras.optimizers import Adam\n",
        "\n",
        "#Compute Class Weights\n",
        "y_train_np = y_train.to_numpy().astype(int)\n",
        "\n",
        "# Calculate class weights using compute_class_weight\n",
        "class_weights = compute_class_weight(class_weight='balanced',\n",
        "                                        classes=np.unique(y_train_np),\n",
        "                                        y=y_train_np)\n",
        "\n",
        "class_weights_dict = dict(enumerate(class_weights))\n",
        "\n",
        "# Gunakan embedding FastText\n",
        "embedding_index = {}\n",
        "with open('/content/drive/MyDrive/DSC25/PlatinumChallenge/cc.id.300.vec', 'r', encoding='utf-8') as f:\n",
        "    for line in f:\n",
        "        values = line.split()\n",
        "        word = values[0]\n",
        "        vector = np.asarray(values[1:], dtype='float32')\n",
        "        embedding_index[word] = vector\n",
        "\n",
        "# Create embedding matrix\n",
        "embedding_dim = 300  # Sesuai dengan dimensi FastText yang digunakan\n",
        "word_index = tokenizer.word_index\n",
        "num_words = len(word_index) + 1\n",
        "embedding_matrix = np.zeros((num_words, embedding_dim))\n",
        "for word, i in word_index.items():\n",
        "    embedding_vector = embedding_index.get(word)\n",
        "    if embedding_vector is not None:\n",
        "        embedding_matrix[i] = embedding_vector\n",
        "\n",
        "model = Sequential()\n",
        "model.add(Embedding(input_dim=num_words,\n",
        "                    output_dim=embedding_dim,\n",
        "                    weights=[embedding_matrix],\n",
        "                    trainable=False))\n",
        "model.add(Bidirectional(LSTM(256, return_sequences=True)))\n",
        "model.add(Dropout(0.6)) # Meningkatkan Dropout untuk regularisasi\n",
        "model.add(Bidirectional(LSTM(256)))\n",
        "model.add(Dropout(0.6)) # Tambahkan Dropout setelah layer kedua\n",
        "model.add(Dense(3, activation='softmax'))\n",
        "\n",
        "# Mengompilasi model\n",
        "optimizer = Adam(learning_rate=0.0001)\n",
        "model.compile(optimizer=optimizer,\n",
        "              loss='sparse_categorical_crossentropy',\n",
        "              metrics=['accuracy'])\n",
        "\n",
        "# Callbacks\n",
        "early_stopping = EarlyStopping(monitor='val_loss', patience=3, restore_best_weights=True)\n",
        "reduce_lr = ReduceLROnPlateau(monitor='val_loss', factor=0.2, patience=3, min_lr=1e-7)\n",
        "\n",
        "y_train = y_train.reset_index(drop=True)\n",
        "\n",
        "# Melatih model\n",
        "history = model.fit(X_train, y_train,\n",
        "                    validation_split=0.2,\n",
        "                    epochs=50,  # Tetap gunakan jumlah epoch besar, EarlyStopping akan menghentikan lebih awal\n",
        "                    batch_size=64,  # Kurangi batch size tidak apa-apa\n",
        "                    class_weight=class_weights_dict,\n",
        "                    callbacks=[early_stopping, reduce_lr],\n",
        "                    verbose=1)"
      ]
    },
    {
      "cell_type": "markdown",
      "metadata": {
        "id": "QbB5RbE7tApX"
      },
      "source": [
        "Step 11: Evaluate Model"
      ]
    },
    {
      "cell_type": "code",
      "execution_count": 87,
      "metadata": {
        "colab": {
          "base_uri": "https://localhost:8080/",
          "height": 692
        },
        "id": "u_lchE-MtD_r",
        "outputId": "a31a0b22-1edb-4092-d641-1dd066c7183e"
      },
      "outputs": [
        {
          "output_type": "stream",
          "name": "stdout",
          "text": [
            "\u001b[1m111/111\u001b[0m \u001b[32m━━━━━━━━━━━━━━━━━━━━\u001b[0m\u001b[37m\u001b[0m \u001b[1m22s\u001b[0m 193ms/step - accuracy: 0.8345 - loss: 0.4208\n",
            "Test Loss: 0.4050999581813812\n",
            "Test Accuracy: 0.8432919979095459\n",
            "\u001b[1m111/111\u001b[0m \u001b[32m━━━━━━━━━━━━━━━━━━━━\u001b[0m\u001b[37m\u001b[0m \u001b[1m22s\u001b[0m 197ms/step\n"
          ]
        },
        {
          "output_type": "display_data",
          "data": {
            "text/plain": [
              "<Figure size 640x480 with 2 Axes>"
            ],
            "image/png": "[encoded data removed]"
          },
          "metadata": {}
        },
        {
          "output_type": "stream",
          "name": "stdout",
          "text": [
            "              precision    recall  f1-score   support\n",
            "\n",
            "    negative       0.85      0.68      0.75      1055\n",
            "     neutral       0.60      0.88      0.71       347\n",
            "    positive       0.90      0.92      0.91      2146\n",
            "\n",
            "    accuracy                           0.84      3548\n",
            "   macro avg       0.78      0.82      0.79      3548\n",
            "weighted avg       0.85      0.84      0.84      3548\n",
            "\n"
          ]
        }
      ],
      "source": [
        "from sklearn.metrics import classification_report, confusion_matrix\n",
        "import seaborn as sns\n",
        "import matplotlib.pyplot as plt\n",
        "import numpy as np\n",
        "\n",
        "# Convert X_test to a NumPy array with a defined shape\n",
        "X_test = X_test.astype(np.int64)\n",
        "\n",
        "loss, accuracy = model.evaluate(X_test, y_test)\n",
        "print(f\"Test Loss: {loss}\")\n",
        "print(f\"Test Accuracy: {accuracy}\")\n",
        "\n",
        "# Predict on test data\n",
        "y_pred = np.argmax(model.predict(X_test), axis=1)\n",
        "\n",
        "# Confusion matrix\n",
        "conf_matrix = confusion_matrix(y_test, y_pred)\n",
        "sns.heatmap(conf_matrix, annot=True, fmt='d', cmap='Blues')\n",
        "plt.xlabel('Predicted')\n",
        "plt.ylabel('Actual')\n",
        "plt.show()\n",
        "\n",
        "# Classification report\n",
        "print(classification_report(y_test, y_pred, target_names=label_encoder.classes_))"
      ]
    },
    {
      "cell_type": "markdown",
      "metadata": {
        "id": "Srm6LZg2tNhS"
      },
      "source": [
        "Step 12: Model Visualization"
      ]
    },
    {
      "cell_type": "code",
      "execution_count": 88,
      "metadata": {
        "colab": {
          "base_uri": "https://localhost:8080/",
          "height": 507
        },
        "id": "_WAA4zuWtNpn",
        "outputId": "abd2bbba-2413-4a99-9f4d-56f702da4db8"
      },
      "outputs": [
        {
          "output_type": "display_data",
          "data": {
            "text/plain": [
              "<Figure size 1200x500 with 2 Axes>"
            ],
            "image/png": "[encoded data removed]"
          },
          "metadata": {}
        }
      ],
      "source": [
        "import matplotlib.pyplot as plt\n",
        "\n",
        "plt.figure(figsize=(12, 5))\n",
        "\n",
        "# Plot Loss\n",
        "plt.subplot(1, 2, 1)\n",
        "plt.plot(history.history['loss'], label='Training Loss')\n",
        "plt.plot(history.history['val_loss'], label='Validation Loss')\n",
        "plt.title('Loss per Epoch')\n",
        "plt.xlabel('Epochs')\n",
        "plt.ylabel('Loss')\n",
        "plt.legend()\n",
        "\n",
        "# Plot Accuracy\n",
        "plt.subplot(1, 2, 2)\n",
        "plt.plot(history.history['accuracy'], label='Training Accuracy')\n",
        "plt.plot(history.history['val_accuracy'], label='Validation Accuracy')\n",
        "plt.title('Accuracy per Epoch')\n",
        "plt.xlabel('Epochs')\n",
        "plt.ylabel('Accuracy')\n",
        "plt.legend()\n",
        "\n",
        "plt.tight_layout()\n",
        "plt.show()"
      ]
    },
    {
      "cell_type": "markdown",
      "metadata": {
        "id": "nYMbNcOOtcgY"
      },
      "source": [
        "Step 13: Test Prediction"
      ]
    },
    {
      "cell_type": "code",
      "execution_count": 114,
      "metadata": {
        "colab": {
          "base_uri": "https://localhost:8080/"
        },
        "id": "2K49NxFBtjIM",
        "outputId": "bb3ec08d-059f-4687-a27c-2f3819f364c2"
      },
      "outputs": [
        {
          "output_type": "stream",
          "name": "stdout",
          "text": [
            "\u001b[1m1/1\u001b[0m \u001b[32m━━━━━━━━━━━━━━━━━━━━\u001b[0m\u001b[37m\u001b[0m \u001b[1m0s\u001b[0m 107ms/step\n",
            "Teks: Sayangi dirimu, Prediksi Sentimen: neutral\n",
            "\u001b[1m1/1\u001b[0m \u001b[32m━━━━━━━━━━━━━━━━━━━━\u001b[0m\u001b[37m\u001b[0m \u001b[1m0s\u001b[0m 108ms/step\n",
            "Teks: Pak ustadz nanya dong gimana klo kecanduan rokok, judi, narkoba, pinjol, mabuk, mabuk agama, Prediksi Sentimen: negative\n"
          ]
        }
      ],
      "source": [
        "def custom_sentiment_prediction(text):\n",
        "    # Cleansing text\n",
        "    text = cleansing_text(text)\n",
        "\n",
        "    # Tokenize and pad text\n",
        "    sequence = tokenizer.texts_to_sequences([text])\n",
        "    padded = pad_sequences(sequence, maxlen=100, padding='post')\n",
        "\n",
        "    # Predict sentiment\n",
        "    prediction = model.predict(padded)\n",
        "    predicted_label = label_encoder.inverse_transform([np.argmax(prediction)])\n",
        "\n",
        "    return predicted_label[0]\n",
        "\n",
        "# Test examples\n",
        "#texts = [\"Rasa syukur, cukup\", \"JAHAT!!!\", \"Saya suka banget nasi goreng\"]\n",
        "#texts = [\"Ya udah.. dijual lah, goblok!!!\", \"Yang kamu lakuin ke aku itu, JAHAT!!!\", \"Baiklah kalau begitu\"]\n",
        "#texts = [\"Kata hati saya: Semoga dapat jodoh yg sabar, setia, rendah hati, sehat lahir dan batin\"]\n",
        "texts = [\"Sayangi dirimu\", \"Pak ustadz nanya dong gimana klo kecanduan rokok, judi, narkoba, pinjol, mabuk, mabuk agama\"]\n",
        "\n",
        "# Display predictions\n",
        "for text in texts:\n",
        "    pred = custom_sentiment_prediction(text)\n",
        "    print(f\"Teks: {text}, Prediksi Sentimen: {pred}\")\n"
      ]
    },
    {
      "cell_type": "markdown",
      "metadata": {
        "id": "dKaOQPxMyV7l"
      },
      "source": [
        "Step 14: Save (Model dan Objek x_pad_sequences)"
      ]
    },
    {
      "cell_type": "code",
      "execution_count": 90,
      "metadata": {
        "colab": {
          "base_uri": "https://localhost:8080/"
        },
        "id": "67Fi7nIqyX8e",
        "outputId": "b6b040f4-11f7-48b2-c37f-6beac19a3175"
      },
      "outputs": [
        {
          "output_type": "stream",
          "name": "stdout",
          "text": [
            "Model saved successfully\n",
            "padded_sequences saved successfully\n"
          ]
        }
      ],
      "source": [
        "# Save Model\n",
        "model.save('/content/drive/MyDrive/DSC25/PlatinumChallenge/model_lstm.keras')\n",
        "print(\"Model saved successfully\")\n",
        "\n",
        "# Save x_pad_sequences\n",
        "import pickle\n",
        "\n",
        "file_path = '/content/drive/MyDrive/DSC25/PlatinumChallenge/x_pad_sequences.pickle'\n",
        "\n",
        "# Simpan objek ke berkas pickle\n",
        "with open(file_path, 'wb') as file:\n",
        "    pickle.dump(padded_sequences, file)\n",
        "    print(\"padded_sequences saved successfully\")"
      ]
    }
  ],
  "metadata": {
    "colab": {
      "provenance": []
    },
    "kernelspec": {
      "display_name": "Python 3",
      "name": "python3"
    },
    "language_info": {
      "name": "python"
    }
  },
  "nbformat": 4,
  "nbformat_minor": 0
}